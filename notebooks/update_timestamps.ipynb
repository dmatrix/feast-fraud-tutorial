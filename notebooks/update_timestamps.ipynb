{
 "metadata": {
  "language_info": {
   "codemirror_mode": {
    "name": "ipython",
    "version": 3
   },
   "file_extension": ".py",
   "mimetype": "text/x-python",
   "name": "python",
   "nbconvert_exporter": "python",
   "pygments_lexer": "ipython3",
   "version": "3.7.9"
  },
  "orig_nbformat": 2,
  "kernelspec": {
   "name": "python3",
   "display_name": "Python 3.7.9 64-bit"
  },
  "interpreter": {
   "hash": "aee8b7b246df8f9039afb4144a1f6fd8d2ca17a180786b69acc140d282b71a49"
  }
 },
 "nbformat": 4,
 "nbformat_minor": 2,
 "cells": [
  {
   "cell_type": "code",
   "execution_count": 1,
   "metadata": {},
   "outputs": [
    {
     "output_type": "stream",
     "name": "stderr",
     "text": [
      "Downloading: 100%|██████████| 100000/100000 [00:05<00:00, 19643.91rows/s]\n"
     ]
    }
   ],
   "source": [
    "import pandas as pd\n",
    "\n",
    "sql = \"\"\"\n",
    "    SELECT *\n",
    "    FROM `feast-oss.fraud_tutorial.transactions`\n",
    "\"\"\"\n",
    "\n",
    "# Run a Standard SQL query using the environment's default project\n",
    "transactions = pd.read_gbq(sql, dialect='standard')\n",
    "\n",
    "latest_time = transactions['timestamp'].max()"
   ]
  },
  {
   "cell_type": "code",
   "execution_count": 2,
   "metadata": {},
   "outputs": [
    {
     "output_type": "execute_result",
     "data": {
      "text/plain": [
       "      src_account   amount dest_account  is_fraud  \\\n",
       "0          0001mg  3012.44       ydnwlr         0   \n",
       "1          0001mg  4431.82       oijv7z         0   \n",
       "2          0001mg  3037.60       a6mrvu         0   \n",
       "3          0001mg  6322.63       bmihen         0   \n",
       "4          0001mg  9981.82       tk53lu         0   \n",
       "...           ...      ...          ...       ...   \n",
       "99995      zyvtf8  3609.00       u5s54p         1   \n",
       "99996      zz0sgh  6060.71       c97pdy         1   \n",
       "99997      zz0sgh  5543.38       dt60g4         1   \n",
       "99998      zzrx9o  5031.12       9vo8j7         1   \n",
       "99999      zzx65l  9031.58       p6w6un         1   \n",
       "\n",
       "                             timestamp  \n",
       "0     2021-06-16 12:52:25.074517+00:00  \n",
       "1     2021-06-13 11:47:21.535700+00:00  \n",
       "2     2021-06-11 20:51:21.873945+00:00  \n",
       "3     2021-06-11 13:46:35.364700+00:00  \n",
       "4     2021-06-08 23:31:54.140277+00:00  \n",
       "...                                ...  \n",
       "99995 2021-06-12 21:09:53.775954+00:00  \n",
       "99996 2021-06-04 11:50:31.591834+00:00  \n",
       "99997 2021-06-03 21:48:26.560339+00:00  \n",
       "99998 2021-06-14 12:00:42.439961+00:00  \n",
       "99999 2021-06-11 13:13:24.071963+00:00  \n",
       "\n",
       "[100000 rows x 5 columns]"
      ],
      "text/html": "<div>\n<style scoped>\n    .dataframe tbody tr th:only-of-type {\n        vertical-align: middle;\n    }\n\n    .dataframe tbody tr th {\n        vertical-align: top;\n    }\n\n    .dataframe thead th {\n        text-align: right;\n    }\n</style>\n<table border=\"1\" class=\"dataframe\">\n  <thead>\n    <tr style=\"text-align: right;\">\n      <th></th>\n      <th>src_account</th>\n      <th>amount</th>\n      <th>dest_account</th>\n      <th>is_fraud</th>\n      <th>timestamp</th>\n    </tr>\n  </thead>\n  <tbody>\n    <tr>\n      <th>0</th>\n      <td>0001mg</td>\n      <td>3012.44</td>\n      <td>ydnwlr</td>\n      <td>0</td>\n      <td>2021-06-16 12:52:25.074517+00:00</td>\n    </tr>\n    <tr>\n      <th>1</th>\n      <td>0001mg</td>\n      <td>4431.82</td>\n      <td>oijv7z</td>\n      <td>0</td>\n      <td>2021-06-13 11:47:21.535700+00:00</td>\n    </tr>\n    <tr>\n      <th>2</th>\n      <td>0001mg</td>\n      <td>3037.60</td>\n      <td>a6mrvu</td>\n      <td>0</td>\n      <td>2021-06-11 20:51:21.873945+00:00</td>\n    </tr>\n    <tr>\n      <th>3</th>\n      <td>0001mg</td>\n      <td>6322.63</td>\n      <td>bmihen</td>\n      <td>0</td>\n      <td>2021-06-11 13:46:35.364700+00:00</td>\n    </tr>\n    <tr>\n      <th>4</th>\n      <td>0001mg</td>\n      <td>9981.82</td>\n      <td>tk53lu</td>\n      <td>0</td>\n      <td>2021-06-08 23:31:54.140277+00:00</td>\n    </tr>\n    <tr>\n      <th>...</th>\n      <td>...</td>\n      <td>...</td>\n      <td>...</td>\n      <td>...</td>\n      <td>...</td>\n    </tr>\n    <tr>\n      <th>99995</th>\n      <td>zyvtf8</td>\n      <td>3609.00</td>\n      <td>u5s54p</td>\n      <td>1</td>\n      <td>2021-06-12 21:09:53.775954+00:00</td>\n    </tr>\n    <tr>\n      <th>99996</th>\n      <td>zz0sgh</td>\n      <td>6060.71</td>\n      <td>c97pdy</td>\n      <td>1</td>\n      <td>2021-06-04 11:50:31.591834+00:00</td>\n    </tr>\n    <tr>\n      <th>99997</th>\n      <td>zz0sgh</td>\n      <td>5543.38</td>\n      <td>dt60g4</td>\n      <td>1</td>\n      <td>2021-06-03 21:48:26.560339+00:00</td>\n    </tr>\n    <tr>\n      <th>99998</th>\n      <td>zzrx9o</td>\n      <td>5031.12</td>\n      <td>9vo8j7</td>\n      <td>1</td>\n      <td>2021-06-14 12:00:42.439961+00:00</td>\n    </tr>\n    <tr>\n      <th>99999</th>\n      <td>zzx65l</td>\n      <td>9031.58</td>\n      <td>p6w6un</td>\n      <td>1</td>\n      <td>2021-06-11 13:13:24.071963+00:00</td>\n    </tr>\n  </tbody>\n</table>\n<p>100000 rows × 5 columns</p>\n</div>"
     },
     "metadata": {},
     "execution_count": 2
    }
   ],
   "source": [
    "from datetime import datetime\n",
    "datediff = datetime.now() - latest_time.replace(tzinfo=None)\n",
    "\n",
    "transactions['timestamp'] = transactions['timestamp'] + datediff\n"
   ]
  },
  {
   "cell_type": "code",
   "execution_count": 3,
   "metadata": {},
   "outputs": [
    {
     "output_type": "stream",
     "name": "stderr",
     "text": [
      "1it [00:11, 11.66s/it]\n"
     ]
    }
   ],
   "source": [
    "transactions.to_gbq(destination_table=\"fraud_tutorial.transactions\", project_id=\"feast-oss\", if_exists='replace')"
   ]
  },
  {
   "cell_type": "code",
   "execution_count": 4,
   "metadata": {},
   "outputs": [
    {
     "output_type": "stream",
     "name": "stderr",
     "text": [
      "Downloading: 100%|██████████| 9944/9944 [00:00<00:00, 19073.20rows/s]\n"
     ]
    },
    {
     "output_type": "execute_result",
     "data": {
      "text/plain": [
       "     user_id  credit_score  account_age_days  user_has_2fa_installed  \\\n",
       "0     41sozr           512               700                       0   \n",
       "1     h8nr8u           512               157                       0   \n",
       "2     shid6v           512               509                       0   \n",
       "3     rbcoqw           512               742                       0   \n",
       "4     hew545           512               327                       0   \n",
       "...      ...           ...               ...                     ...   \n",
       "9939  nsgtkp           767               891                       1   \n",
       "9940  4dlidj           767               855                       1   \n",
       "9941  1z87hk           767               271                       1   \n",
       "9942  ffqerm           767               829                       1   \n",
       "9943  elz674           767               783                       1   \n",
       "\n",
       "              feature_timestamp  \n",
       "0    2021-06-09 19:13:46.199693  \n",
       "1    2021-06-09 19:13:46.199693  \n",
       "2    2021-06-09 19:13:46.199693  \n",
       "3    2021-06-09 19:13:46.199693  \n",
       "4    2021-06-09 19:13:46.199693  \n",
       "...                         ...  \n",
       "9939 2021-06-09 19:13:46.199693  \n",
       "9940 2021-06-09 19:13:46.199693  \n",
       "9941 2021-06-09 19:13:46.199693  \n",
       "9942 2021-06-09 19:13:46.199693  \n",
       "9943 2021-06-09 19:13:46.199693  \n",
       "\n",
       "[9944 rows x 5 columns]"
      ],
      "text/html": "<div>\n<style scoped>\n    .dataframe tbody tr th:only-of-type {\n        vertical-align: middle;\n    }\n\n    .dataframe tbody tr th {\n        vertical-align: top;\n    }\n\n    .dataframe thead th {\n        text-align: right;\n    }\n</style>\n<table border=\"1\" class=\"dataframe\">\n  <thead>\n    <tr style=\"text-align: right;\">\n      <th></th>\n      <th>user_id</th>\n      <th>credit_score</th>\n      <th>account_age_days</th>\n      <th>user_has_2fa_installed</th>\n      <th>feature_timestamp</th>\n    </tr>\n  </thead>\n  <tbody>\n    <tr>\n      <th>0</th>\n      <td>41sozr</td>\n      <td>512</td>\n      <td>700</td>\n      <td>0</td>\n      <td>2021-06-09 19:13:46.199693</td>\n    </tr>\n    <tr>\n      <th>1</th>\n      <td>h8nr8u</td>\n      <td>512</td>\n      <td>157</td>\n      <td>0</td>\n      <td>2021-06-09 19:13:46.199693</td>\n    </tr>\n    <tr>\n      <th>2</th>\n      <td>shid6v</td>\n      <td>512</td>\n      <td>509</td>\n      <td>0</td>\n      <td>2021-06-09 19:13:46.199693</td>\n    </tr>\n    <tr>\n      <th>3</th>\n      <td>rbcoqw</td>\n      <td>512</td>\n      <td>742</td>\n      <td>0</td>\n      <td>2021-06-09 19:13:46.199693</td>\n    </tr>\n    <tr>\n      <th>4</th>\n      <td>hew545</td>\n      <td>512</td>\n      <td>327</td>\n      <td>0</td>\n      <td>2021-06-09 19:13:46.199693</td>\n    </tr>\n    <tr>\n      <th>...</th>\n      <td>...</td>\n      <td>...</td>\n      <td>...</td>\n      <td>...</td>\n      <td>...</td>\n    </tr>\n    <tr>\n      <th>9939</th>\n      <td>nsgtkp</td>\n      <td>767</td>\n      <td>891</td>\n      <td>1</td>\n      <td>2021-06-09 19:13:46.199693</td>\n    </tr>\n    <tr>\n      <th>9940</th>\n      <td>4dlidj</td>\n      <td>767</td>\n      <td>855</td>\n      <td>1</td>\n      <td>2021-06-09 19:13:46.199693</td>\n    </tr>\n    <tr>\n      <th>9941</th>\n      <td>1z87hk</td>\n      <td>767</td>\n      <td>271</td>\n      <td>1</td>\n      <td>2021-06-09 19:13:46.199693</td>\n    </tr>\n    <tr>\n      <th>9942</th>\n      <td>ffqerm</td>\n      <td>767</td>\n      <td>829</td>\n      <td>1</td>\n      <td>2021-06-09 19:13:46.199693</td>\n    </tr>\n    <tr>\n      <th>9943</th>\n      <td>elz674</td>\n      <td>767</td>\n      <td>783</td>\n      <td>1</td>\n      <td>2021-06-09 19:13:46.199693</td>\n    </tr>\n  </tbody>\n</table>\n<p>9944 rows × 5 columns</p>\n</div>"
     },
     "metadata": {},
     "execution_count": 4
    }
   ],
   "source": [
    "import pandas as pd\n",
    "from datetime import datetime, timedelta\n",
    "\n",
    "sql = \"\"\"\n",
    "    SELECT *\n",
    "    FROM `feast-oss.fraud_tutorial.user_account_features`\n",
    "\"\"\"\n",
    "\n",
    "user_features = pd.read_gbq(sql, dialect='standard')\n",
    "\n",
    "user_features['feature_timestamp'] = datetime.now() - timedelta(days=7)\n",
    "\n",
    "user_features"
   ]
  },
  {
   "cell_type": "code",
   "execution_count": 5,
   "metadata": {},
   "outputs": [
    {
     "output_type": "stream",
     "name": "stderr",
     "text": [
      "1it [00:02,  2.60s/it]\n"
     ]
    }
   ],
   "source": [
    "user_features.to_gbq(destination_table=\"fraud_tutorial.user_account_features\", project_id=\"feast-oss\", if_exists='replace')"
   ]
  },
  {
   "cell_type": "code",
   "execution_count": 7,
   "metadata": {},
   "outputs": [
    {
     "output_type": "stream",
     "name": "stderr",
     "text": [
      "Downloading: 100%|██████████| 69608/69608 [00:02<00:00, 29059.20rows/s]\n"
     ]
    },
    {
     "output_type": "execute_result",
     "data": {
      "text/plain": [
       "      user_id  user_has_fraudulent_transactions_7d  \\\n",
       "0      0001mg                                  0.0   \n",
       "1      00c8mc                                  0.0   \n",
       "2      00gmwi                                  0.0   \n",
       "3      00mbm9                                  0.0   \n",
       "4      00wjqi                                  0.0   \n",
       "...       ...                                  ...   \n",
       "69603  54r2jp                                  1.0   \n",
       "69604  phvjnv                                  1.0   \n",
       "69605  vr9qpk                                  1.0   \n",
       "69606  wija9d                                  1.0   \n",
       "69607  yvkh8e                                  1.0   \n",
       "\n",
       "                     feature_timestamp  \n",
       "0     2021-06-11 12:56:59.739937+00:00  \n",
       "1     2021-06-11 12:56:59.739937+00:00  \n",
       "2     2021-06-11 12:56:59.739937+00:00  \n",
       "3     2021-06-11 12:56:59.739937+00:00  \n",
       "4     2021-06-11 12:56:59.739937+00:00  \n",
       "...                                ...  \n",
       "69603 2021-06-17 12:56:59.739937+00:00  \n",
       "69604 2021-06-17 12:56:59.739937+00:00  \n",
       "69605 2021-06-17 12:56:59.739937+00:00  \n",
       "69606 2021-06-17 12:56:59.739937+00:00  \n",
       "69607 2021-06-17 12:56:59.739937+00:00  \n",
       "\n",
       "[69608 rows x 3 columns]"
      ],
      "text/html": "<div>\n<style scoped>\n    .dataframe tbody tr th:only-of-type {\n        vertical-align: middle;\n    }\n\n    .dataframe tbody tr th {\n        vertical-align: top;\n    }\n\n    .dataframe thead th {\n        text-align: right;\n    }\n</style>\n<table border=\"1\" class=\"dataframe\">\n  <thead>\n    <tr style=\"text-align: right;\">\n      <th></th>\n      <th>user_id</th>\n      <th>user_has_fraudulent_transactions_7d</th>\n      <th>feature_timestamp</th>\n    </tr>\n  </thead>\n  <tbody>\n    <tr>\n      <th>0</th>\n      <td>0001mg</td>\n      <td>0.0</td>\n      <td>2021-06-11 12:56:59.739937+00:00</td>\n    </tr>\n    <tr>\n      <th>1</th>\n      <td>00c8mc</td>\n      <td>0.0</td>\n      <td>2021-06-11 12:56:59.739937+00:00</td>\n    </tr>\n    <tr>\n      <th>2</th>\n      <td>00gmwi</td>\n      <td>0.0</td>\n      <td>2021-06-11 12:56:59.739937+00:00</td>\n    </tr>\n    <tr>\n      <th>3</th>\n      <td>00mbm9</td>\n      <td>0.0</td>\n      <td>2021-06-11 12:56:59.739937+00:00</td>\n    </tr>\n    <tr>\n      <th>4</th>\n      <td>00wjqi</td>\n      <td>0.0</td>\n      <td>2021-06-11 12:56:59.739937+00:00</td>\n    </tr>\n    <tr>\n      <th>...</th>\n      <td>...</td>\n      <td>...</td>\n      <td>...</td>\n    </tr>\n    <tr>\n      <th>69603</th>\n      <td>54r2jp</td>\n      <td>1.0</td>\n      <td>2021-06-17 12:56:59.739937+00:00</td>\n    </tr>\n    <tr>\n      <th>69604</th>\n      <td>phvjnv</td>\n      <td>1.0</td>\n      <td>2021-06-17 12:56:59.739937+00:00</td>\n    </tr>\n    <tr>\n      <th>69605</th>\n      <td>vr9qpk</td>\n      <td>1.0</td>\n      <td>2021-06-17 12:56:59.739937+00:00</td>\n    </tr>\n    <tr>\n      <th>69606</th>\n      <td>wija9d</td>\n      <td>1.0</td>\n      <td>2021-06-17 12:56:59.739937+00:00</td>\n    </tr>\n    <tr>\n      <th>69607</th>\n      <td>yvkh8e</td>\n      <td>1.0</td>\n      <td>2021-06-17 12:56:59.739937+00:00</td>\n    </tr>\n  </tbody>\n</table>\n<p>69608 rows × 3 columns</p>\n</div>"
     },
     "metadata": {},
     "execution_count": 7
    }
   ],
   "source": [
    "import pandas as pd\n",
    "\n",
    "sql = \"\"\"\n",
    "    SELECT *\n",
    "    FROM `feast-oss.fraud_tutorial.user_has_fraudulent_transactions`\n",
    "\"\"\"\n",
    "\n",
    "# Run a Standard SQL query using the environment's default project\n",
    "user_has_fraud = pd.read_gbq(sql, dialect='standard')\n",
    "\n",
    "latest_time = user_has_fraud['feature_timestamp'].max()\n",
    "\n",
    "datediff = datetime.now() - latest_time.replace(tzinfo=None)\n",
    "\n",
    "user_has_fraud['feature_timestamp'] = user_has_fraud['feature_timestamp'] + datediff"
   ]
  },
  {
   "cell_type": "code",
   "execution_count": 8,
   "metadata": {},
   "outputs": [
    {
     "output_type": "stream",
     "name": "stderr",
     "text": [
      "1it [00:05,  5.72s/it]\n"
     ]
    }
   ],
   "source": [
    "user_has_fraud.to_gbq(destination_table=\"fraud_tutorial.user_has_fraudulent_transactions\", project_id=\"feast-oss\", if_exists='replace')"
   ]
  },
  {
   "cell_type": "code",
   "execution_count": null,
   "metadata": {},
   "outputs": [],
   "source": []
  }
 ]
}